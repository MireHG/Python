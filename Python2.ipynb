{
 "cells": [
  {
   "cell_type": "code",
   "execution_count": null,
   "id": "20db61a2-2363-40b1-b71b-e835608cff97",
   "metadata": {
    "tags": []
   },
   "outputs": [],
   "source": [
    "# Ejercicio 1. Definir una función max() que tome como argumento dos números y devuelva el mayor de ellos.\n",
    "# Python tiene una función max() incorporada, pero la obviaremos en este ejercicio."
   ]
  },
  {
   "cell_type": "code",
   "execution_count": 23,
   "id": "b46182b1-3169-434c-bafa-c7884f81308f",
   "metadata": {},
   "outputs": [
    {
     "name": "stdout",
     "output_type": "stream",
     "text": [
      "9\n"
     ]
    }
   ],
   "source": [
    "# Solución A\n",
    "\n",
    "def max (n1, n2):\n",
    "    if n1 > n2:\n",
    "        print (n1)\n",
    "    elif n2 > n1:\n",
    "        print (n2)\n",
    "    else:\n",
    "        print (\"They're the same number.\")\n",
    "        \n",
    "max (5, 9)"
   ]
  },
  {
   "cell_type": "code",
   "execution_count": 33,
   "id": "770dd9ff-139e-45be-b5dc-220e805d39f0",
   "metadata": {},
   "outputs": [
    {
     "name": "stdout",
     "output_type": "stream",
     "text": [
      "They're the same number.\n"
     ]
    }
   ],
   "source": [
    "max (9, 9)"
   ]
  },
  {
   "cell_type": "code",
   "execution_count": 24,
   "id": "3160e630-995f-4338-b773-7c2ba15eac7f",
   "metadata": {
    "tags": []
   },
   "outputs": [
    {
     "data": {
      "text/plain": [
       "7"
      ]
     },
     "execution_count": 24,
     "metadata": {},
     "output_type": "execute_result"
    }
   ],
   "source": [
    "# Solución B\n",
    "\n",
    "def max (n1, n2):\n",
    "    if n1 > n2:\n",
    "        return n1\n",
    "    elif n2 > n1:\n",
    "        return n2\n",
    "    else:\n",
    "        print (\"They're the same number.\")\n",
    "        \n",
    "max (2, 7)"
   ]
  },
  {
   "cell_type": "code",
   "execution_count": null,
   "id": "a5d004af-dd27-4e9b-bcfc-51424c15ad5c",
   "metadata": {},
   "outputs": [],
   "source": [
    "# Ejercicio 2. Definir una función min() que tome como argumento dos números y devuelva el menor de ellos.\n",
    "# Python tiene una función min() incorporada, pero la obviaremos en este ejercicio."
   ]
  },
  {
   "cell_type": "code",
   "execution_count": 32,
   "id": "ae87242e-1ba8-49ce-bae3-891e5beb3bde",
   "metadata": {},
   "outputs": [
    {
     "name": "stdout",
     "output_type": "stream",
     "text": [
      "19\n"
     ]
    }
   ],
   "source": [
    "# Solución A\n",
    "\n",
    "def min (n1, n2):\n",
    "    if n1 < n2:\n",
    "        print (n1)\n",
    "    elif n2 < n1:\n",
    "        print (n2)\n",
    "    else:\n",
    "        print (\"They're the same number.\")\n",
    "\n",
    "min (19, 28)"
   ]
  },
  {
   "cell_type": "code",
   "execution_count": 31,
   "id": "840eb894-2fba-451e-8f81-2be712583043",
   "metadata": {},
   "outputs": [
    {
     "name": "stdout",
     "output_type": "stream",
     "text": [
      "They're the same number.\n"
     ]
    }
   ],
   "source": [
    "min (28, 28)"
   ]
  },
  {
   "cell_type": "code",
   "execution_count": 34,
   "id": "54885fb3-71af-4306-b216-2a3744b9f309",
   "metadata": {},
   "outputs": [
    {
     "data": {
      "text/plain": [
       "19"
      ]
     },
     "execution_count": 34,
     "metadata": {},
     "output_type": "execute_result"
    }
   ],
   "source": [
    "# Solución B\n",
    "\n",
    "def min (n1, n2):\n",
    "    if n1 < n2:\n",
    "        return n1\n",
    "    elif n2 < n1:\n",
    "        return n2\n",
    "    else:\n",
    "        print (\"They're the same number.\")\n",
    "        \n",
    "min (19, 28)"
   ]
  },
  {
   "cell_type": "code",
   "execution_count": null,
   "id": "16eed66d-d268-4795-b4db-ca357e8d9f2e",
   "metadata": {},
   "outputs": [],
   "source": []
  }
 ],
 "metadata": {
  "kernelspec": {
   "display_name": "Python 3 (ipykernel)",
   "language": "python",
   "name": "python3"
  },
  "language_info": {
   "codemirror_mode": {
    "name": "ipython",
    "version": 3
   },
   "file_extension": ".py",
   "mimetype": "text/x-python",
   "name": "python",
   "nbconvert_exporter": "python",
   "pygments_lexer": "ipython3",
   "version": "3.9.13"
  }
 },
 "nbformat": 4,
 "nbformat_minor": 5
}
