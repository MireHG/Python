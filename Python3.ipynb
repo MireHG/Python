{
 "cells": [
  {
   "cell_type": "code",
   "execution_count": null,
   "id": "9ed7d9c6-580f-4618-8e3b-9e43a52f8322",
   "metadata": {},
   "outputs": [],
   "source": [
    "# Escribe un programa en la consola de Python que pida al usuario su peso (en Kg) y estatura (en metros).\n",
    "# Debe calcular el índice de masa corporal y lo almacene en una variable e imprima por pantalla la frase \"Tu índice de masa corporal es\" donde el resultado se redondee a dos decimales."
   ]
  },
  {
   "cell_type": "code",
   "execution_count": 2,
   "id": "67c7b399-7f36-4891-85af-b75eb3ddf002",
   "metadata": {},
   "outputs": [
    {
     "name": "stdin",
     "output_type": "stream",
     "text": [
      "¿Cuál es tu peso en kg? 77\n",
      "¿Cuál es tu estatura en metros? 1.96\n"
     ]
    },
    {
     "name": "stdout",
     "output_type": "stream",
     "text": [
      "Tu íncide de masa corporal es 20.04\n"
     ]
    }
   ],
   "source": [
    "peso = input('¿Cuál es tu peso en kg?')\n",
    "estatura = input('¿Cuál es tu estatura en metros?')\n",
    "# imc = peso/estatura al cuadrado\n",
    "imc = round(float(peso)/float(estatura)**2,2)\n",
    "print('Tu íncide de masa corporal es ' +str(imc))"
   ]
  },
  {
   "cell_type": "code",
   "execution_count": null,
   "id": "dd14db86-5410-49b7-a362-2d97db82e701",
   "metadata": {},
   "outputs": [],
   "source": []
  }
 ],
 "metadata": {
  "kernelspec": {
   "display_name": "Python 3 (ipykernel)",
   "language": "python",
   "name": "python3"
  },
  "language_info": {
   "codemirror_mode": {
    "name": "ipython",
    "version": 3
   },
   "file_extension": ".py",
   "mimetype": "text/x-python",
   "name": "python",
   "nbconvert_exporter": "python",
   "pygments_lexer": "ipython3",
   "version": "3.9.13"
  }
 },
 "nbformat": 4,
 "nbformat_minor": 5
}
